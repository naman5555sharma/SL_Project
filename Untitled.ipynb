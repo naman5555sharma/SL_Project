{
 "cells": [
  {
   "cell_type": "code",
   "execution_count": 2,
   "id": "0ddf9665-2400-40b2-a683-7d9c7bce32ca",
   "metadata": {},
   "outputs": [
    {
     "name": "stdout",
     "output_type": "stream",
     "text": [
      "Initialized empty Git repository in /Users/namansharma/Documents/cs699/project/OCCS/.git/\n"
     ]
    }
   ],
   "source": [
    "!git init"
   ]
  },
  {
   "cell_type": "code",
   "execution_count": 4,
   "id": "fc8e8122-9d58-49e3-9648-9b019d0c610e",
   "metadata": {},
   "outputs": [],
   "source": [
    "!git add .\n"
   ]
  },
  {
   "cell_type": "code",
   "execution_count": 5,
   "id": "a3ef064d-4882-455f-94d6-a3b738040983",
   "metadata": {},
   "outputs": [
    {
     "name": "stdout",
     "output_type": "stream",
     "text": [
      "[main (root-commit) 392be3a] Initial commit\n",
      " Committer: naman sharma <namansharma@namans-MacBook-Air.local>\n",
      "Your name and email address were configured automatically based\n",
      "on your username and hostname. Please check that they are accurate.\n",
      "You can suppress this message by setting them explicitly. Run the\n",
      "following command and follow the instructions in your editor to edit\n",
      "your configuration file:\n",
      "\n",
      "    git config --global --edit\n",
      "\n",
      "After doing this, you may fix the identity used for this commit with:\n",
      "\n",
      "    git commit --amend --reset-author\n",
      "\n",
      " 29 files changed, 286 insertions(+)\n",
      " create mode 100644 .ipynb_checkpoints/Untitled-checkpoint.ipynb\n",
      " create mode 100644 OCCS/__init__.py\n",
      " create mode 100644 OCCS/__pycache__/__init__.cpython-310.pyc\n",
      " create mode 100644 OCCS/__pycache__/settings.cpython-310.pyc\n",
      " create mode 100644 OCCS/__pycache__/urls.cpython-310.pyc\n",
      " create mode 100644 OCCS/__pycache__/wsgi.cpython-310.pyc\n",
      " create mode 100644 OCCS/asgi.py\n",
      " create mode 100644 OCCS/settings.py\n",
      " create mode 100644 OCCS/urls.py\n",
      " create mode 100644 OCCS/wsgi.py\n",
      " create mode 100644 Readme.md\n",
      " create mode 100644 Untitled.ipynb\n",
      " create mode 100644 ccservice/__init__.py\n",
      " create mode 100644 ccservice/__pycache__/__init__.cpython-310.pyc\n",
      " create mode 100644 ccservice/__pycache__/admin.cpython-310.pyc\n",
      " create mode 100644 ccservice/__pycache__/apps.cpython-310.pyc\n",
      " create mode 100644 ccservice/__pycache__/models.cpython-310.pyc\n",
      " create mode 100644 ccservice/__pycache__/urls.cpython-310.pyc\n",
      " create mode 100644 ccservice/__pycache__/views.cpython-310.pyc\n",
      " create mode 100644 ccservice/admin.py\n",
      " create mode 100644 ccservice/apps.py\n",
      " create mode 100644 ccservice/migrations/__init__.py\n",
      " create mode 100644 ccservice/migrations/__pycache__/__init__.cpython-310.pyc\n",
      " create mode 100644 ccservice/models.py\n",
      " create mode 100644 ccservice/tests.py\n",
      " create mode 100644 ccservice/urls.py\n",
      " create mode 100644 ccservice/views.py\n",
      " create mode 100644 db.sqlite3\n",
      " create mode 100755 manage.py\n"
     ]
    }
   ],
   "source": [
    "!git commit -m \"Initial commit\""
   ]
  },
  {
   "cell_type": "code",
   "execution_count": 6,
   "id": "118bae0a-48c1-449b-ad31-f0dfd50f2f0e",
   "metadata": {},
   "outputs": [],
   "source": [
    "!git remote add origin https://github.com/naman5555sharma/SL_Project.git"
   ]
  },
  {
   "cell_type": "code",
   "execution_count": null,
   "id": "1a6a909d-2871-4a72-abbd-df9bde2d65b3",
   "metadata": {},
   "outputs": [
    {
     "name": "stdout",
     "output_type": "stream",
     "text": [
      "Username for 'https://github.com': "
     ]
    }
   ],
   "source": [
    "!git push -u origin main"
   ]
  },
  {
   "cell_type": "code",
   "execution_count": null,
   "id": "de1798ce-b9fc-4778-b065-137765537f59",
   "metadata": {},
   "outputs": [],
   "source": [
    "naman5555sharma"
   ]
  },
  {
   "cell_type": "code",
   "execution_count": null,
   "id": "5c033197-9b84-42b8-96c4-e73f64545c74",
   "metadata": {},
   "outputs": [],
   "source": []
  }
 ],
 "metadata": {
  "kernelspec": {
   "display_name": "Python 3 (ipykernel)",
   "language": "python",
   "name": "python3"
  },
  "language_info": {
   "codemirror_mode": {
    "name": "ipython",
    "version": 3
   },
   "file_extension": ".py",
   "mimetype": "text/x-python",
   "name": "python",
   "nbconvert_exporter": "python",
   "pygments_lexer": "ipython3",
   "version": "3.13.0"
  }
 },
 "nbformat": 4,
 "nbformat_minor": 5
}
