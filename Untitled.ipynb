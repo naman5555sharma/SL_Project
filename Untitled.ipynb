{
 "cells": [
  {
   "cell_type": "code",
   "execution_count": 2,
   "id": "0ddf9665-2400-40b2-a683-7d9c7bce32ca",
   "metadata": {},
   "outputs": [
    {
     "name": "stdout",
     "output_type": "stream",
     "text": [
      "Initialized empty Git repository in /Users/namansharma/Documents/cs699/project/OCCS/.git/\n"
     ]
    }
   ],
   "source": [
    "!git init"
   ]
  },
  {
   "cell_type": "code",
   "execution_count": 4,
   "id": "fc8e8122-9d58-49e3-9648-9b019d0c610e",
   "metadata": {},
   "outputs": [],
   "source": [
    "!git add .\n"
   ]
  },
  {
   "cell_type": "code",
   "execution_count": 5,
   "id": "a3ef064d-4882-455f-94d6-a3b738040983",
   "metadata": {},
   "outputs": [
    {
     "name": "stdout",
     "output_type": "stream",
     "text": [
      "[main (root-commit) 392be3a] Initial commit\n",
      " Committer: naman sharma <namansharma@namans-MacBook-Air.local>\n",
      "Your name and email address were configured automatically based\n",
      "on your username and hostname. Please check that they are accurate.\n",
      "You can suppress this message by setting them explicitly. Run the\n",
      "following command and follow the instructions in your editor to edit\n",
      "your configuration file:\n",
      "\n",
      "    git config --global --edit\n",
      "\n",
      "After doing this, you may fix the identity used for this commit with:\n",
      "\n",
      "    git commit --amend --reset-author\n",
      "\n",
      " 29 files changed, 286 insertions(+)\n",
      " create mode 100644 .ipynb_checkpoints/Untitled-checkpoint.ipynb\n",
      " create mode 100644 OCCS/__init__.py\n",
      " create mode 100644 OCCS/__pycache__/__init__.cpython-310.pyc\n",
      " create mode 100644 OCCS/__pycache__/settings.cpython-310.pyc\n",
      " create mode 100644 OCCS/__pycache__/urls.cpython-310.pyc\n",
      " create mode 100644 OCCS/__pycache__/wsgi.cpython-310.pyc\n",
      " create mode 100644 OCCS/asgi.py\n",
      " create mode 100644 OCCS/settings.py\n",
      " create mode 100644 OCCS/urls.py\n",
      " create mode 100644 OCCS/wsgi.py\n",
      " create mode 100644 Readme.md\n",
      " create mode 100644 Untitled.ipynb\n",
      " create mode 100644 ccservice/__init__.py\n",
      " create mode 100644 ccservice/__pycache__/__init__.cpython-310.pyc\n",
      " create mode 100644 ccservice/__pycache__/admin.cpython-310.pyc\n",
      " create mode 100644 ccservice/__pycache__/apps.cpython-310.pyc\n",
      " create mode 100644 ccservice/__pycache__/models.cpython-310.pyc\n",
      " create mode 100644 ccservice/__pycache__/urls.cpython-310.pyc\n",
      " create mode 100644 ccservice/__pycache__/views.cpython-310.pyc\n",
      " create mode 100644 ccservice/admin.py\n",
      " create mode 100644 ccservice/apps.py\n",
      " create mode 100644 ccservice/migrations/__init__.py\n",
      " create mode 100644 ccservice/migrations/__pycache__/__init__.cpython-310.pyc\n",
      " create mode 100644 ccservice/models.py\n",
      " create mode 100644 ccservice/tests.py\n",
      " create mode 100644 ccservice/urls.py\n",
      " create mode 100644 ccservice/views.py\n",
      " create mode 100644 db.sqlite3\n",
      " create mode 100755 manage.py\n"
     ]
    }
   ],
   "source": [
    "!git commit -m \"Initial commit\""
   ]
  },
  {
   "cell_type": "code",
   "execution_count": 6,
   "id": "118bae0a-48c1-449b-ad31-f0dfd50f2f0e",
   "metadata": {},
   "outputs": [],
   "source": [
    "!git remote add origin https://github.com/naman5555sharma/SL_Project.git"
   ]
  },
  {
   "cell_type": "code",
   "execution_count": 1,
   "id": "1a6a909d-2871-4a72-abbd-df9bde2d65b3",
   "metadata": {},
   "outputs": [
    {
     "name": "stdout",
     "output_type": "stream",
     "text": [
      "On branch main\n",
      "Your branch is up to date with 'origin/main'.\n",
      "\n",
      "Changes not staged for commit:\n",
      "  (use \"git add <file>...\" to update what will be committed)\n",
      "  (use \"git restore <file>...\" to discard changes in working directory)\n",
      "\t\u001b[31mmodified:   ccservice/urls.py\u001b[m\n",
      "\n",
      "Untracked files:\n",
      "  (use \"git add <file>...\" to include in what will be committed)\n",
      "\t\u001b[31m.DS_Store\u001b[m\n",
      "\t\u001b[31mOCCS/.ipynb_checkpoints/\u001b[m\n",
      "\n",
      "no changes added to commit (use \"git add\" and/or \"git commit -a\")\n"
     ]
    }
   ],
   "source": [
    "!git status"
   ]
  },
  {
   "cell_type": "code",
   "execution_count": 3,
   "id": "de1798ce-b9fc-4778-b065-137765537f59",
   "metadata": {},
   "outputs": [],
   "source": [
    "!git add ."
   ]
  },
  {
   "cell_type": "code",
   "execution_count": 4,
   "id": "5c033197-9b84-42b8-96c4-e73f64545c74",
   "metadata": {},
   "outputs": [
    {
     "name": "stdout",
     "output_type": "stream",
     "text": [
      "On branch main\n",
      "Your branch is up to date with 'origin/main'.\n",
      "\n",
      "Changes to be committed:\n",
      "  (use \"git restore --staged <file>...\" to unstage)\n",
      "\t\u001b[32mnew file:   .DS_Store\u001b[m\n",
      "\t\u001b[32mnew file:   OCCS/.ipynb_checkpoints/urls-checkpoint.py\u001b[m\n",
      "\t\u001b[32mmodified:   ccservice/urls.py\u001b[m\n",
      "\n"
     ]
    }
   ],
   "source": [
    "!git status"
   ]
  },
  {
   "cell_type": "code",
   "execution_count": 5,
   "id": "810d3040-4822-44fe-a469-9c5acad14c51",
   "metadata": {},
   "outputs": [
    {
     "name": "stdout",
     "output_type": "stream",
     "text": [
      "\u001b[34m.\u001b[m\u001b[m                  \u001b[34m.ipynb_checkpoints\u001b[m\u001b[m \u001b[34mccservice\u001b[m\u001b[m          \u001b[34mtemplates\u001b[m\u001b[m\n",
      "\u001b[34m..\u001b[m\u001b[m                 \u001b[34mOCCS\u001b[m\u001b[m               db.sqlite3\n",
      ".DS_Store          Readme.md          \u001b[31mmanage.py\u001b[m\u001b[m\n",
      "\u001b[34m.git\u001b[m\u001b[m               Untitled.ipynb     \u001b[34mstatic\u001b[m\u001b[m\n"
     ]
    }
   ],
   "source": [
    "!ls -a\n"
   ]
  },
  {
   "cell_type": "code",
   "execution_count": 6,
   "id": "28d7c2d8-2516-4a4b-abcb-ebbfb331c93f",
   "metadata": {},
   "outputs": [],
   "source": [
    "!mkdir .gitingnore"
   ]
  },
  {
   "cell_type": "code",
   "execution_count": 7,
   "id": "3bb480b9-368a-4602-b08a-78fa22f6bc69",
   "metadata": {},
   "outputs": [
    {
     "name": "stdout",
     "output_type": "stream",
     "text": [
      "\u001b[34m.\u001b[m\u001b[m/                  \u001b[34m.gitingnore\u001b[m\u001b[m/        Untitled.ipynb      \u001b[34mstatic\u001b[m\u001b[m/\n",
      "\u001b[34m..\u001b[m\u001b[m/                 \u001b[34m.ipynb_checkpoints\u001b[m\u001b[m/ \u001b[34mccservice\u001b[m\u001b[m/          \u001b[34mtemplates\u001b[m\u001b[m/\n",
      ".DS_Store           \u001b[34mOCCS\u001b[m\u001b[m/               db.sqlite3\n",
      "\u001b[34m.git\u001b[m\u001b[m/               Readme.md           \u001b[31mmanage.py\u001b[m\u001b[m*\n"
     ]
    }
   ],
   "source": [
    "ls -a"
   ]
  },
  {
   "cell_type": "code",
   "execution_count": null,
   "id": "9868f1fe-b2e6-4a36-b66c-98c4ef8efb8a",
   "metadata": {},
   "outputs": [],
   "source": []
  },
  {
   "cell_type": "code",
   "execution_count": 9,
   "id": "669b022e-9297-4fc8-9ba8-6dbd254ce432",
   "metadata": {},
   "outputs": [],
   "source": [
    "!echo \".gitignore\" >> .gitignore"
   ]
  },
  {
   "cell_type": "code",
   "execution_count": 10,
   "id": "8e69bd5a-10d3-42b4-8165-d03955bebbbf",
   "metadata": {},
   "outputs": [],
   "source": [
    "!echo \".pynb_checkpoints\" >> .gitignore"
   ]
  },
  {
   "cell_type": "code",
   "execution_count": 11,
   "id": "c06e42c9-477c-4416-981e-4e761bedbfe5",
   "metadata": {},
   "outputs": [
    {
     "name": "stdout",
     "output_type": "stream",
     "text": [
      "On branch main\n",
      "Your branch is up to date with 'origin/main'.\n",
      "\n",
      "Changes to be committed:\n",
      "  (use \"git restore --staged <file>...\" to unstage)\n",
      "\t\u001b[32mnew file:   .DS_Store\u001b[m\n",
      "\t\u001b[32mnew file:   OCCS/.ipynb_checkpoints/urls-checkpoint.py\u001b[m\n",
      "\t\u001b[32mmodified:   ccservice/urls.py\u001b[m\n",
      "\n",
      "Changes not staged for commit:\n",
      "  (use \"git add <file>...\" to update what will be committed)\n",
      "  (use \"git restore <file>...\" to discard changes in working directory)\n",
      "\t\u001b[31mmodified:   Untitled.ipynb\u001b[m\n",
      "\n"
     ]
    }
   ],
   "source": [
    "!git status"
   ]
  },
  {
   "cell_type": "code",
   "execution_count": 12,
   "id": "8b7dc076-c820-408f-b8d2-aaacb51687c0",
   "metadata": {},
   "outputs": [],
   "source": [
    "!git add .\n"
   ]
  },
  {
   "cell_type": "code",
   "execution_count": 13,
   "id": "5f83db04-2cd8-440b-9b5b-bccdf76a44d6",
   "metadata": {},
   "outputs": [
    {
     "name": "stdout",
     "output_type": "stream",
     "text": [
      "On branch main\n",
      "Your branch is up to date with 'origin/main'.\n",
      "\n",
      "Changes to be committed:\n",
      "  (use \"git restore --staged <file>...\" to unstage)\n",
      "\t\u001b[32mnew file:   .DS_Store\u001b[m\n",
      "\t\u001b[32mnew file:   OCCS/.ipynb_checkpoints/urls-checkpoint.py\u001b[m\n",
      "\t\u001b[32mmodified:   Untitled.ipynb\u001b[m\n",
      "\t\u001b[32mmodified:   ccservice/urls.py\u001b[m\n",
      "\n"
     ]
    }
   ],
   "source": [
    "!git status"
   ]
  },
  {
   "cell_type": "code",
   "execution_count": null,
   "id": "e155dce0-322a-417e-93f7-2d50ea16d581",
   "metadata": {},
   "outputs": [],
   "source": []
  }
 ],
 "metadata": {
  "kernelspec": {
   "display_name": "Python 3 (ipykernel)",
   "language": "python",
   "name": "python3"
  },
  "language_info": {
   "codemirror_mode": {
    "name": "ipython",
    "version": 3
   },
   "file_extension": ".py",
   "mimetype": "text/x-python",
   "name": "python",
   "nbconvert_exporter": "python",
   "pygments_lexer": "ipython3",
   "version": "3.13.0"
  }
 },
 "nbformat": 4,
 "nbformat_minor": 5
}
